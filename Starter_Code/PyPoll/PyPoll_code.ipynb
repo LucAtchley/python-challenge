{
 "cells": [
  {
   "cell_type": "code",
   "execution_count": 11,
   "id": "46deeb1a-3866-4408-88ed-518e428782f1",
   "metadata": {},
   "outputs": [],
   "source": [
    "# Import libraries\n",
    "import csv\n",
    "import os\n",
    "import pandas as pd"
   ]
  },
  {
   "cell_type": "code",
   "execution_count": 13,
   "id": "0ae73cd4-68e0-44c4-b881-f565f40764cd",
   "metadata": {},
   "outputs": [],
   "source": [
    "# Read in csv path and create dataframe\n",
    "csvpath = os.path.join('Resources', 'election_data.csv')\n",
    "df = pd.read_csv(csvpath)"
   ]
  },
  {
   "cell_type": "code",
   "execution_count": 15,
   "id": "0e924995-de03-4e11-a633-1a49d2c288b7",
   "metadata": {},
   "outputs": [],
   "source": [
    "# List to store data\n",
    "candidates = []\n",
    "candidate_results = []"
   ]
  },
  {
   "cell_type": "code",
   "execution_count": 17,
   "id": "ca5a556e-a782-419a-8366-6de40c6c7787",
   "metadata": {},
   "outputs": [
    {
     "name": "stdout",
     "output_type": "stream",
     "text": [
      "369711\n",
      "['Charles Casper Stockham:  23.049% (85213)', 'Diana DeGette:  73.812% (272892)', 'Raymon Anthony Doane:  3.139% (11606)']\n",
      "Diana DeGette\n"
     ]
    }
   ],
   "source": [
    "# Count the number of votes\n",
    "total_votes = len(df)\n",
    "\n",
    "# Create a list of candidates\n",
    "candidates = df.iloc[:,2].unique()\n",
    "\n",
    "# Calculate votes and percentages for each candidate\n",
    "candidate_votes = df.iloc[:,2].value_counts()\n",
    "candidate_percentages = (candidate_votes / total_votes) * 100\n",
    "\n",
    "# Create a list of results by candidate\n",
    "for candidate in candidates:\n",
    "    votes = candidate_votes.get(candidate, 0)\n",
    "    percentage = candidate_percentages.get(candidate, 0)\n",
    "    candidate_results.append(f\"{candidate}: {percentage: .3f}% ({votes})\")\n",
    "\n",
    "# Calculate the election winner\n",
    "winner = candidate_votes.idxmax()\n",
    "\n",
    "print(total_votes)\n",
    "print(candidate_results)\n",
    "print(winner)"
   ]
  },
  {
   "cell_type": "code",
   "execution_count": 19,
   "id": "15322bdc-c186-4cce-bad9-2a9286307fbf",
   "metadata": {},
   "outputs": [
    {
     "name": "stdout",
     "output_type": "stream",
     "text": [
      "Election Results\n",
      "----------------------------------------\n",
      "Total Votes: 369711\n",
      "----------------------------------------\n",
      "Charles Casper Stockham:  23.049% (85213)\n",
      "Diana DeGette:  73.812% (272892)\n",
      "Raymon Anthony Doane:  3.139% (11606)\n",
      "----------------------------------------\n",
      "Winner: Diana DeGette\n",
      "----------------------------------------\n"
     ]
    }
   ],
   "source": [
    "# Print Analysis\n",
    "election_results = (\n",
    "    \"Election Results\\n\"\n",
    "    \"----------------------------------------\\n\"\n",
    "    f\"Total Votes: {total_votes}\\n\"\n",
    "    \"----------------------------------------\\n\"\n",
    "    + \"\\n\".join(candidate_results) + \"\\n\"\n",
    "    \"----------------------------------------\\n\"\n",
    "    f\"Winner: {winner}\\n\"\n",
    "    \"----------------------------------------\"\n",
    ")\n",
    "\n",
    "print(election_results)"
   ]
  },
  {
   "cell_type": "code",
   "execution_count": 21,
   "id": "c36dd706-18c1-4e12-a7ee-ebf92c7d97ad",
   "metadata": {},
   "outputs": [],
   "source": [
    "# Export election results to a text file\n",
    "output_file = os.path.join(\"analysis\", \"election_results.txt\")\n",
    "with open(output_file, \"w\") as file:\n",
    "    file.write(election_results)"
   ]
  }
 ],
 "metadata": {
  "kernelspec": {
   "display_name": "Python 3 (ipykernel)",
   "language": "python",
   "name": "python3"
  },
  "language_info": {
   "codemirror_mode": {
    "name": "ipython",
    "version": 3
   },
   "file_extension": ".py",
   "mimetype": "text/x-python",
   "name": "python",
   "nbconvert_exporter": "python",
   "pygments_lexer": "ipython3",
   "version": "3.12.4"
  }
 },
 "nbformat": 4,
 "nbformat_minor": 5
}
