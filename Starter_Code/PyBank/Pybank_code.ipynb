{
 "cells": [
  {
   "cell_type": "code",
   "execution_count": 1,
   "id": "4cca4eb3-a5c8-4bb6-850e-90d237c7ec78",
   "metadata": {},
   "outputs": [],
   "source": [
    "# import libraries\n",
    "import os\n",
    "import csv\n",
    "import pandas as pd\n",
    "\n",
    "# Set the file path for the budget_data.csv file\n",
    "csvpath = os.path.join('Resources', 'budget_data.csv')"
   ]
  },
  {
   "cell_type": "code",
   "execution_count": 3,
   "id": "0f5129ee-af87-433c-97f5-7a2bbfe63cde",
   "metadata": {},
   "outputs": [],
   "source": [
    "# Initialize variables\n",
    "total_months = 0\n",
    "net_total = 0\n",
    "changes = []\n",
    "previous_profit_loss = 0"
   ]
  },
  {
   "cell_type": "code",
   "execution_count": 5,
   "id": "f54036e9-04f4-432f-8c0f-ceb95e5a0366",
   "metadata": {},
   "outputs": [],
   "source": [
    "# Read the CSV file\n",
    "with open(csvpath, 'r') as csvfile:\n",
    "    csvreader = csv.reader(csvfile, delimiter=',')\n",
    "    csv_header = next(csvreader)\n",
    "\n",
    "    for row in csvreader:\n",
    "        # Calculate total months and net total profit/losses\n",
    "        total_months += 1\n",
    "        net_total += int(row[1])\n",
    "\n",
    "        # Calculate changes in profit/losses\n",
    "        current_profit_loss = int(row[1])\n",
    "        if total_months > 1:\n",
    "            change = current_profit_loss - previous_profit_loss\n",
    "            changes.append(change)\n",
    "        previous_profit_loss = current_profit_loss"
   ]
  },
  {
   "cell_type": "code",
   "execution_count": 7,
   "id": "18092e6f-5209-4a30-8f6d-d3206bab15e3",
   "metadata": {},
   "outputs": [
    {
     "name": "stdout",
     "output_type": "stream",
     "text": [
      "Average change: -8311.105882352942\n",
      "Greatest increase: 1862002\n",
      "Greatest decrease: -1825558\n"
     ]
    }
   ],
   "source": [
    "# Calculate average change\n",
    "average_change = sum(changes) / len(changes)\n",
    "\n",
    "# Find greatest increase and decrease in profits\n",
    "greatest_increase = max(changes)\n",
    "greatest_decrease = min(changes)\n",
    "\n",
    "# Print results\n",
    "print(f'Average change: {average_change}')\n",
    "print(f'Greatest increase: {greatest_increase}')\n",
    "print(f'Greatest decrease: {greatest_decrease}')"
   ]
  },
  {
   "cell_type": "code",
   "execution_count": 13,
   "id": "94cd04b8-96c8-4ae4-a6bb-b32841597532",
   "metadata": {},
   "outputs": [
    {
     "name": "stdout",
     "output_type": "stream",
     "text": [
      "Aug-16\n",
      "Feb-14\n"
     ]
    }
   ],
   "source": [
    "# Find the corresponding dates for greatest increase and decrease\n",
    "df = pd.read_csv(csvpath)\n",
    "greatest_increase_index = changes.index(greatest_increase)+1\n",
    "greatest_increase_date = df.loc[greatest_increase_index, 'Date']\n",
    "greatest_decrease_index = changes.index(greatest_decrease)+1\n",
    "greatest_decrease_date = df.loc[greatest_decrease_index, 'Date']\n",
    "\n",
    "print(greatest_increase_date)\n",
    "print(greatest_decrease_date)"
   ]
  },
  {
   "cell_type": "code",
   "execution_count": 17,
   "id": "ea4f72f7-ccde-4626-8590-cebd37690065",
   "metadata": {},
   "outputs": [
    {
     "name": "stdout",
     "output_type": "stream",
     "text": [
      "Financial Analysis\n",
      "-------------------------\n",
      "Total Months: 86\n",
      "Total: $22564198\n",
      "Average Change: $-8311.11\n",
      "Greatest Increase in Profits: Aug-16 ($1862002)\n",
      "Greatest Decrease in Profits: Feb-14 ($-1825558)\n",
      "\n"
     ]
    }
   ],
   "source": [
    "# Create a varible that holds the financial summary to be printed to .txt\n",
    "financial_analysis = (\n",
    "    \"Financial Analysis\\n\"\n",
    "    \"-------------------------\\n\"\n",
    "    f\"Total Months: {total_months}\\n\"\n",
    "    f\"Total: ${net_total}\\n\"\n",
    "    f\"Average Change: ${average_change:.2f}\\n\"\n",
    "    f\"Greatest Increase in Profits: {greatest_increase_date} (${greatest_increase})\\n\"\n",
    "    f\"Greatest Decrease in Profits: {greatest_decrease_date} (${greatest_decrease})\\n\"\n",
    ")\n",
    "\n",
    "# print the financial analysis\n",
    "print(financial_analysis)"
   ]
  },
  {
   "cell_type": "code",
   "execution_count": 21,
   "id": "33892203-4f2f-4464-ad93-a859c2b6c564",
   "metadata": {},
   "outputs": [],
   "source": [
    "# Export analysis to text file\n",
    "output_file = os.path.join(\".\", \"analysis\", \"financial_analysis.txt\")\n",
    "with open(output_file, \"w\") as file:\n",
    "    file.write(financial_analysis)"
   ]
  },
  {
   "cell_type": "code",
   "execution_count": null,
   "id": "dc305671-6085-4372-9124-695af1c61754",
   "metadata": {},
   "outputs": [],
   "source": []
  }
 ],
 "metadata": {
  "kernelspec": {
   "display_name": "Python 3 (ipykernel)",
   "language": "python",
   "name": "python3"
  },
  "language_info": {
   "codemirror_mode": {
    "name": "ipython",
    "version": 3
   },
   "file_extension": ".py",
   "mimetype": "text/x-python",
   "name": "python",
   "nbconvert_exporter": "python",
   "pygments_lexer": "ipython3",
   "version": "3.12.4"
  }
 },
 "nbformat": 4,
 "nbformat_minor": 5
}
